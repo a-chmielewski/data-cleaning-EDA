{
 "cells": [
  {
   "cell_type": "code",
   "execution_count": 1,
   "id": "0c2e3867-8ef9-4171-9dc8-1813b0d6d089",
   "metadata": {},
   "outputs": [],
   "source": [
    "import pandas as pd\n",
    "import os\n",
    "from os.path import exists\n",
    "import re\n",
    "pd.set_option('display.max_columns', None)\n",
    "path = r'./datasets/Dane_o_przestepczosci_w_latach_19992021/'"
   ]
  },
  {
   "cell_type": "code",
   "execution_count": 2,
   "id": "274ed23a-50f8-4340-8a4f-002dfa365463",
   "metadata": {},
   "outputs": [],
   "source": [
    "# zgwalcenia = pd.read_csv(\"./datasets/Dane_o_przestepczosci_w_latach_19992021/Zgwacenie/przestepstwa_zgwalcenie.csv\",\n",
    "#                        sep=';', skiprows=2, usecols=[*range(0,4)], encoding = 'cp1250')\n",
    "# zgwalcenia.drop(zgwalcenia.tail(2).index,inplace=True)\n",
    "# zgwalcenia['crime']= str(zgwalcenia)\n",
    "# zgwalcenia.head()"
   ]
  },
  {
   "cell_type": "code",
   "execution_count": null,
   "id": "707289ba-dbaf-472d-b84f-3347dc64514b",
   "metadata": {},
   "outputs": [],
   "source": [
    "for (dirpath, dirnames, filenames) in os.walk(path):\n",
    "    for filename in filenames:\n",
    "        re1= r'^(.*?) wg'\n",
    "        re2= '([^\\/]+$)'\n",
    "        cutname = re.compile(\"(%s|%s)\" % (re1, re2)).findall(dirpath)\n",
    "        # print(dirpath)\n",
    "        # print(\"CUT: \" + cutname[0][1])\n",
    "        # oldname = re.findall(re2, dirpath)\n",
    "        \n",
    "        if not (exists(cutname[0][1])):\n",
    "            os.rename(dirpath, cutname[0][1])\n",
    "        else:\n",
    "            os.rename(dirpath, cutname[0][1] + \" cd\")    "
   ]
  },
  {
   "cell_type": "code",
   "execution_count": 32,
   "id": "f5493cc1-aa91-4982-9558-5bedf3ea0445",
   "metadata": {},
   "outputs": [
    {
     "name": "stdout",
     "output_type": "stream",
     "text": [
      "<class 'pandas.core.frame.DataFrame'>\n",
      "Int64Index: 6118 entries, 0 to 6160\n",
      "Data columns (total 5 columns):\n",
      " #   Column              Non-Null Count  Dtype  \n",
      "---  ------              --------------  -----  \n",
      " 0   Area                6118 non-null   object \n",
      " 1   Year                6118 non-null   float64\n",
      " 2   Crimes established  6118 non-null   object \n",
      " 3   Crimes detected     6118 non-null   object \n",
      " 4   Type                6118 non-null   object \n",
      "dtypes: float64(1), object(4)\n",
      "memory usage: 286.8+ KB\n"
     ]
    }
   ],
   "source": [
    "crimes = pd.DataFrame()\n",
    "for (dirpath, dirnames, filenames) in os.walk(path):\n",
    "    for filename in filenames:\n",
    "        if re.search(\"przestepstwa\", filename) != None:\n",
    "            crime = re.findall(r\"(?<=_)\\w+\", filename)\n",
    "            df_name = pd.read_csv(r\"{}\".format(dirpath+\"/\"+filename), sep=';', skiprows=2, usecols=[*range(0,4)], encoding = 'cp1250')\n",
    "            df_name['Type']= str(crime[0])\n",
    "            crimes = pd.concat([crimes, df_name], ignore_index=True)\n",
    "            \n",
    "\n",
    "crimes = crimes.dropna()\n",
    "crimes = crimes.rename(columns={'Jednostka podziału administracyjnego':'Area', 'Rok':'Year', 'Przestępstwa stwierdzone':'Crimes established', 'Przestępstwa wykryte':'Crimes detected'})\n",
    "\n",
    "crimes.info()"
   ]
  },
  {
   "cell_type": "code",
   "execution_count": null,
   "id": "b8fc68f8-7ffe-4d98-b110-cb0a683679bf",
   "metadata": {},
   "outputs": [],
   "source": []
  },
  {
   "cell_type": "code",
   "execution_count": 39,
   "id": "6b90261a-7fff-4b83-a74f-94432527ef29",
   "metadata": {},
   "outputs": [
    {
     "name": "stdout",
     "output_type": "stream",
     "text": [
      "<class 'pandas.core.frame.DataFrame'>\n",
      "Int64Index: 6118 entries, 0 to 6160\n",
      "Data columns (total 5 columns):\n",
      " #   Column              Non-Null Count  Dtype  \n",
      "---  ------              --------------  -----  \n",
      " 0   Area                6118 non-null   object \n",
      " 1   Year                6118 non-null   float64\n",
      " 2   Crimes established  6080 non-null   float64\n",
      " 3   Crimes detected     6080 non-null   float64\n",
      " 4   Type                6118 non-null   object \n",
      "dtypes: float64(3), object(2)\n",
      "memory usage: 286.8+ KB\n"
     ]
    }
   ],
   "source": [
    "crimes['Crimes detected'] = crimes['Crimes detected'].str.replace(' ', '')\n",
    "crimes['Crimes detected'] = pd.to_numeric(crimes['Crimes detected'], errors='coerce')\n",
    "crimes['Crimes established'] = crimes['Crimes established'].str.replace(' ', '')\n",
    "crimes['Crimes established'] =  pd.to_numeric(crimes['Crimes established'], errors='coerce')\n",
    "\n",
    "crimes.info()"
   ]
  },
  {
   "cell_type": "code",
   "execution_count": 40,
   "id": "7c1bdaf2-ff17-4eef-86a1-b2bfa5bd7f2f",
   "metadata": {},
   "outputs": [
    {
     "data": {
      "text/html": [
       "<div>\n",
       "<style scoped>\n",
       "    .dataframe tbody tr th:only-of-type {\n",
       "        vertical-align: middle;\n",
       "    }\n",
       "\n",
       "    .dataframe tbody tr th {\n",
       "        vertical-align: top;\n",
       "    }\n",
       "\n",
       "    .dataframe thead th {\n",
       "        text-align: right;\n",
       "    }\n",
       "</style>\n",
       "<table border=\"1\" class=\"dataframe\">\n",
       "  <thead>\n",
       "    <tr style=\"text-align: right;\">\n",
       "      <th></th>\n",
       "      <th>Area</th>\n",
       "      <th>Year</th>\n",
       "      <th>Crimes established</th>\n",
       "      <th>Crimes detected</th>\n",
       "      <th>Type</th>\n",
       "    </tr>\n",
       "  </thead>\n",
       "  <tbody>\n",
       "    <tr>\n",
       "      <th>0</th>\n",
       "      <td>teren działania KSP Warszawa</td>\n",
       "      <td>2021.0</td>\n",
       "      <td>18642.0</td>\n",
       "      <td>4258.0</td>\n",
       "      <td>kradziez</td>\n",
       "    </tr>\n",
       "    <tr>\n",
       "      <th>1</th>\n",
       "      <td>teren działania KSP Warszawa</td>\n",
       "      <td>2020.0</td>\n",
       "      <td>15954.0</td>\n",
       "      <td>3550.0</td>\n",
       "      <td>kradziez</td>\n",
       "    </tr>\n",
       "    <tr>\n",
       "      <th>2</th>\n",
       "      <td>teren działania KSP Warszawa</td>\n",
       "      <td>2019.0</td>\n",
       "      <td>18706.0</td>\n",
       "      <td>3976.0</td>\n",
       "      <td>kradziez</td>\n",
       "    </tr>\n",
       "    <tr>\n",
       "      <th>3</th>\n",
       "      <td>teren działania KSP Warszawa</td>\n",
       "      <td>2018.0</td>\n",
       "      <td>17386.0</td>\n",
       "      <td>3738.0</td>\n",
       "      <td>kradziez</td>\n",
       "    </tr>\n",
       "    <tr>\n",
       "      <th>4</th>\n",
       "      <td>teren działania KSP Warszawa</td>\n",
       "      <td>2017.0</td>\n",
       "      <td>17441.0</td>\n",
       "      <td>3608.0</td>\n",
       "      <td>kradziez</td>\n",
       "    </tr>\n",
       "  </tbody>\n",
       "</table>\n",
       "</div>"
      ],
      "text/plain": [
       "                           Area    Year  Crimes established  Crimes detected  \\\n",
       "0  teren działania KSP Warszawa  2021.0             18642.0           4258.0   \n",
       "1  teren działania KSP Warszawa  2020.0             15954.0           3550.0   \n",
       "2  teren działania KSP Warszawa  2019.0             18706.0           3976.0   \n",
       "3  teren działania KSP Warszawa  2018.0             17386.0           3738.0   \n",
       "4  teren działania KSP Warszawa  2017.0             17441.0           3608.0   \n",
       "\n",
       "       Type  \n",
       "0  kradziez  \n",
       "1  kradziez  \n",
       "2  kradziez  \n",
       "3  kradziez  \n",
       "4  kradziez  "
      ]
     },
     "execution_count": 40,
     "metadata": {},
     "output_type": "execute_result"
    }
   ],
   "source": [
    "warsaw_crimes = crimes[crimes['Area']=='teren działania KSP Warszawa']\n",
    "warsaw_crimes.reset_index(inplace=True, drop=True)\n",
    "warsaw_crimes.head()"
   ]
  },
  {
   "cell_type": "code",
   "execution_count": 44,
   "id": "88dbb361-7dcb-4ded-a980-4b04fc4c0814",
   "metadata": {},
   "outputs": [
    {
     "data": {
      "text/plain": [
       "Type\n",
       "zabojstwo               1428.0\n",
       "zgwalcenie              1638.0\n",
       "kradziez_samochodu      6949.0\n",
       "korupcja                8206.0\n",
       "bojka                   9274.0\n",
       "uszczerbek             13779.0\n",
       "uszkodzenie            27724.0\n",
       "włamania               36945.0\n",
       "kradziez               94196.0\n",
       "gospodarcze           137368.0\n",
       "nietrzezwi            140996.0\n",
       "drogowe               166461.0\n",
       "17x7                  204234.0\n",
       "kryminalne            601820.0\n",
       "Name: Crimes detected, dtype: float64"
      ]
     },
     "execution_count": 44,
     "metadata": {},
     "output_type": "execute_result"
    }
   ],
   "source": [
    "warsaw_crimes.groupby('Type')['Crimes detected'].sum().sort_values()"
   ]
  },
  {
   "cell_type": "code",
   "execution_count": null,
   "id": "6f9d66db-e695-4786-8fe3-0614c5f33779",
   "metadata": {},
   "outputs": [],
   "source": []
  }
 ],
 "metadata": {
  "kernelspec": {
   "display_name": "Python 3 (ipykernel)",
   "language": "python",
   "name": "python3"
  },
  "language_info": {
   "codemirror_mode": {
    "name": "ipython",
    "version": 3
   },
   "file_extension": ".py",
   "mimetype": "text/x-python",
   "name": "python",
   "nbconvert_exporter": "python",
   "pygments_lexer": "ipython3",
   "version": "3.9.12"
  }
 },
 "nbformat": 4,
 "nbformat_minor": 5
}
